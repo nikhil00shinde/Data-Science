{
  "nbformat": 4,
  "nbformat_minor": 0,
  "metadata": {
    "colab": {
      "name": "Numpy.ipynb",
      "provenance": [],
      "authorship_tag": "ABX9TyMoMG1zp8A8d1Flo1zvWNBi",
      "include_colab_link": true
    },
    "kernelspec": {
      "name": "python3",
      "display_name": "Python 3"
    },
    "language_info": {
      "name": "python"
    }
  },
  "cells": [
    {
      "cell_type": "markdown",
      "metadata": {
        "id": "view-in-github",
        "colab_type": "text"
      },
      "source": [
        "<a href=\"https://colab.research.google.com/github/nikhil00shinde/Data-Science/blob/main/22-01-07-Numpy/Code.ipynb\" target=\"_parent\"><img src=\"https://colab.research.google.com/assets/colab-badge.svg\" alt=\"Open In Colab\"/></a>"
      ]
    },
    {
      "cell_type": "code",
      "execution_count": 1,
      "metadata": {
        "id": "sm8Lixio3PMH"
      },
      "outputs": [],
      "source": [
        "import numpy as np"
      ]
    },
    {
      "cell_type": "markdown",
      "source": [
        "# Basics\n",
        "\n",
        "Create from python list\n",
        "* size\n",
        "* dtype\n",
        "* shape\n",
        "* ndim\n",
        "\n",
        "**Performance**\n",
        "* memory\n",
        "* time"
      ],
      "metadata": {
        "id": "0DINnw-p1yZC"
      }
    },
    {
      "cell_type": "code",
      "source": [
        "l = np.array([1,2,5,6,7])\n",
        "print(l)"
      ],
      "metadata": {
        "colab": {
          "base_uri": "https://localhost:8080/"
        },
        "id": "cz-YjHha1xYo",
        "outputId": "36d2d962-7f86-44a7-aec7-2664e5b39353"
      },
      "execution_count": 3,
      "outputs": [
        {
          "output_type": "stream",
          "name": "stdout",
          "text": [
            "[1 2 5 6 7]\n"
          ]
        }
      ]
    },
    {
      "cell_type": "code",
      "source": [
        "print(\"Type\",type(l))\n",
        "print('Size',l.size)\n",
        "print('dtype',l.dtype)"
      ],
      "metadata": {
        "colab": {
          "base_uri": "https://localhost:8080/"
        },
        "id": "4YyrmynK2KwG",
        "outputId": "4cdd5637-8696-4e97-9fa5-e49fb9974abd"
      },
      "execution_count": 4,
      "outputs": [
        {
          "output_type": "stream",
          "name": "stdout",
          "text": [
            "Type <class 'numpy.ndarray'>\n",
            "Size 5\n",
            "dtype int64\n"
          ]
        }
      ]
    },
    {
      "cell_type": "markdown",
      "source": [
        "Dtypes: https://numpy.org/devdocs/user/basics.types.html\n",
        "* int\n",
        "* uint\n",
        "* float {8,16,32,64}"
      ],
      "metadata": {
        "id": "8XLENcFx2azi"
      }
    },
    {
      "cell_type": "code",
      "source": [
        "# l = np.array([1,2,5,6,70000],dtype='int8)\n",
        "l = np.array([1,2,5,6.,9,700000])\n",
        "\n",
        "print(l.dtype)\n",
        "print(l)"
      ],
      "metadata": {
        "colab": {
          "base_uri": "https://localhost:8080/"
        },
        "id": "z9TUbft22XPg",
        "outputId": "e46aa1c7-728c-4565-eafc-974090448e36"
      },
      "execution_count": 6,
      "outputs": [
        {
          "output_type": "stream",
          "name": "stdout",
          "text": [
            "float64\n",
            "[1.e+00 2.e+00 5.e+00 6.e+00 9.e+00 7.e+05]\n"
          ]
        }
      ]
    },
    {
      "cell_type": "markdown",
      "source": [
        "e + x => 10^x"
      ],
      "metadata": {
        "id": "H-qvmQIO2z6q"
      }
    },
    {
      "cell_type": "code",
      "source": [
        "l = np.array([1,2,5,6.6,9],dtype='int32')\n",
        "\n",
        "print(l.dtype)\n",
        "print(l)"
      ],
      "metadata": {
        "colab": {
          "base_uri": "https://localhost:8080/"
        },
        "id": "VAEebGRa2vWL",
        "outputId": "7ee7fa9a-19d0-43f9-f8c4-6ba9dbd10f0e"
      },
      "execution_count": 8,
      "outputs": [
        {
          "output_type": "stream",
          "name": "stdout",
          "text": [
            "int32\n",
            "[1 2 5 6 9]\n"
          ]
        }
      ]
    },
    {
      "cell_type": "markdown",
      "source": [
        "## Performance\n",
        "\n",
        "**Memory**"
      ],
      "metadata": {
        "id": "3EJUEEFL3IeW"
      }
    },
    {
      "cell_type": "code",
      "source": [
        "import sys\n",
        "\n",
        "a = 9\n",
        "print('Bits',sys.getsizeof(a)*8)"
      ],
      "metadata": {
        "colab": {
          "base_uri": "https://localhost:8080/"
        },
        "id": "9xZ9nkDy3CRg",
        "outputId": "08411678-bc40-46de-b3a9-68a3009d72b6"
      },
      "execution_count": 9,
      "outputs": [
        {
          "output_type": "stream",
          "name": "stdout",
          "text": [
            "Bits 224\n"
          ]
        }
      ]
    },
    {
      "cell_type": "code",
      "source": [
        "a = np.array([3,5,8,5])\n",
        "\n",
        "print(a.dtype)\n",
        "print('Storage of 1 data int Bits\\'s',a.itemsize*8)\n",
        "print('Storage of complete array in bit\\'s', a.nbytes*8)"
      ],
      "metadata": {
        "colab": {
          "base_uri": "https://localhost:8080/"
        },
        "id": "C6cSDOYJ3iOB",
        "outputId": "deec4b7a-777b-41e4-ccd9-934e73b0bf4c"
      },
      "execution_count": 10,
      "outputs": [
        {
          "output_type": "stream",
          "name": "stdout",
          "text": [
            "int64\n",
            "Storage of 1 data int Bits's 64\n",
            "Storage of complete array in bit's 256\n"
          ]
        }
      ]
    },
    {
      "cell_type": "markdown",
      "source": [
        "**Time**"
      ],
      "metadata": {
        "id": "NH0h0YEP4WgI"
      }
    },
    {
      "cell_type": "code",
      "source": [
        "ar = np.arange(2,100002)\n",
        "print(ar.size)"
      ],
      "metadata": {
        "colab": {
          "base_uri": "https://localhost:8080/"
        },
        "id": "u913AfGN4TiS",
        "outputId": "72c9ebaf-ec28-4808-d9e2-13bf23cfaddf"
      },
      "execution_count": 11,
      "outputs": [
        {
          "output_type": "stream",
          "name": "stdout",
          "text": [
            "100000\n"
          ]
        }
      ]
    },
    {
      "cell_type": "code",
      "source": [
        "s = 0\n",
        "for i in ar:\n",
        "  s = s+i\n",
        "print(s)"
      ],
      "metadata": {
        "colab": {
          "base_uri": "https://localhost:8080/"
        },
        "id": "RvFCFQxY4dM9",
        "outputId": "ba63f46e-36ad-4d2f-f0d7-ed7745a78bea"
      },
      "execution_count": 12,
      "outputs": [
        {
          "output_type": "stream",
          "name": "stdout",
          "text": [
            "5000150000\n"
          ]
        }
      ]
    },
    {
      "cell_type": "code",
      "source": [
        "def sumArray(l):\n",
        "  sum = 0\n",
        "  for i in l:\n",
        "    sum = sum + i\n",
        "  return sum\n",
        "\n",
        "%timeit sumArray(ar) # python function"
      ],
      "metadata": {
        "colab": {
          "base_uri": "https://localhost:8080/"
        },
        "id": "QnS98SY04jgI",
        "outputId": "a6f4fd75-0c9f-4b5b-d3b2-49af3072e19b"
      },
      "execution_count": 13,
      "outputs": [
        {
          "output_type": "stream",
          "name": "stdout",
          "text": [
            "100 loops, best of 5: 10.8 ms per loop\n"
          ]
        }
      ]
    },
    {
      "cell_type": "code",
      "source": [
        "%timeit ar.sum() # numpy function"
      ],
      "metadata": {
        "colab": {
          "base_uri": "https://localhost:8080/"
        },
        "id": "X3peiYiz44AV",
        "outputId": "05e411b9-830c-4a32-cab6-f52e08d3042b"
      },
      "execution_count": 15,
      "outputs": [
        {
          "output_type": "stream",
          "name": "stdout",
          "text": [
            "The slowest run took 8.63 times longer than the fastest. This could mean that an intermediate result is being cached.\n",
            "10000 loops, best of 5: 71.4 µs per loop\n"
          ]
        }
      ]
    },
    {
      "cell_type": "markdown",
      "source": [
        "# Numpy array from Scratch\n",
        "\n",
        "* `np.zeros(size)`\n",
        "* `np.ones(size)`\n",
        "* `np.full(size,value)` # repeats 7 10 times\n",
        "* `np.arange(start,stop,step)`"
      ],
      "metadata": {
        "id": "tlKEKWnz5J8G"
      }
    },
    {
      "cell_type": "code",
      "source": [
        "ar = np.zeros(10,dtype=np.int32)\n",
        "print(ar)\n",
        "print(ar.dtype)\n",
        "print(ar.size)"
      ],
      "metadata": {
        "colab": {
          "base_uri": "https://localhost:8080/"
        },
        "id": "qD4YvjiC4873",
        "outputId": "a4eeac42-7d64-4808-e573-843f93706e29"
      },
      "execution_count": 16,
      "outputs": [
        {
          "output_type": "stream",
          "name": "stdout",
          "text": [
            "[0 0 0 0 0 0 0 0 0 0]\n",
            "int32\n",
            "10\n"
          ]
        }
      ]
    },
    {
      "cell_type": "code",
      "source": [
        "ar = np.ones(10,dtype=np.int32)\n",
        "print(ar)\n",
        "print(ar.dtype)\n",
        "print(ar.size)"
      ],
      "metadata": {
        "colab": {
          "base_uri": "https://localhost:8080/"
        },
        "id": "59Oq6yqw5vyl",
        "outputId": "545410f9-c98a-438c-9020-ad9f795bd09a"
      },
      "execution_count": 17,
      "outputs": [
        {
          "output_type": "stream",
          "name": "stdout",
          "text": [
            "[1 1 1 1 1 1 1 1 1 1]\n",
            "int32\n",
            "10\n"
          ]
        }
      ]
    },
    {
      "cell_type": "code",
      "source": [
        "ar = np.full(10,7,dtype=np.int32) # repeats\n",
        "print(ar)\n",
        "print(ar.dtype)\n",
        "print(ar.size)"
      ],
      "metadata": {
        "colab": {
          "base_uri": "https://localhost:8080/"
        },
        "id": "rwnbkmQW52wm",
        "outputId": "64ede84a-fdfc-4a6b-b4e4-0fb2ccf745cf"
      },
      "execution_count": 18,
      "outputs": [
        {
          "output_type": "stream",
          "name": "stdout",
          "text": [
            "[7 7 7 7 7 7 7 7 7 7]\n",
            "int32\n",
            "10\n"
          ]
        }
      ]
    },
    {
      "cell_type": "code",
      "source": [
        "print(list(range(20,9,-2)))\n",
        "ar = np.arange(20,9,-2)\n",
        "print(ar)"
      ],
      "metadata": {
        "colab": {
          "base_uri": "https://localhost:8080/"
        },
        "id": "YqoJ_sTR6JAf",
        "outputId": "2029dc54-06a8-4327-943b-d6747a1fd942"
      },
      "execution_count": 19,
      "outputs": [
        {
          "output_type": "stream",
          "name": "stdout",
          "text": [
            "[20, 18, 16, 14, 12, 10]\n",
            "[20 18 16 14 12 10]\n"
          ]
        }
      ]
    },
    {
      "cell_type": "markdown",
      "source": [
        "# Slicing / Indexing\n",
        "\n",
        "* Same as python list"
      ],
      "metadata": {
        "id": "qI6M2mfx6UuM"
      }
    },
    {
      "cell_type": "code",
      "source": [
        "ar = np.arange(2,10) \n",
        "print(ar)\n",
        "print(ar.size)"
      ],
      "metadata": {
        "colab": {
          "base_uri": "https://localhost:8080/"
        },
        "id": "FgBn_YCJ6SKH",
        "outputId": "75bf0240-2aeb-46a3-a0d7-5e94dcfa66a7"
      },
      "execution_count": 20,
      "outputs": [
        {
          "output_type": "stream",
          "name": "stdout",
          "text": [
            "[2 3 4 5 6 7 8 9]\n",
            "8\n"
          ]
        }
      ]
    },
    {
      "cell_type": "code",
      "source": [
        "print(ar[0])\n",
        "print(ar[-2])"
      ],
      "metadata": {
        "colab": {
          "base_uri": "https://localhost:8080/"
        },
        "id": "uBUC-i0i6hzw",
        "outputId": "b81089e8-2648-47cf-ea29-70c2e12fd6ec"
      },
      "execution_count": 21,
      "outputs": [
        {
          "output_type": "stream",
          "name": "stdout",
          "text": [
            "2\n",
            "8\n"
          ]
        }
      ]
    },
    {
      "cell_type": "code",
      "source": [
        "ar[::-1]"
      ],
      "metadata": {
        "colab": {
          "base_uri": "https://localhost:8080/"
        },
        "id": "P28gwJxA6mDo",
        "outputId": "9f08a7b9-2078-4d23-8d65-615e18febfd4"
      },
      "execution_count": 22,
      "outputs": [
        {
          "output_type": "execute_result",
          "data": {
            "text/plain": [
              "array([9, 8, 7, 6, 5, 4, 3, 2])"
            ]
          },
          "metadata": {},
          "execution_count": 22
        }
      ]
    },
    {
      "cell_type": "markdown",
      "source": [
        "Task\n",
        "\n",
        "\n",
        "1. https://www.hackerrank.com/challenges/np-arrays/problem?isFullScreen=true\n",
        "2. https://www.hackerrank.com/challenges/np-zeros-and-ones/problem?isFullScreen=true\n",
        "\n",
        "\n",
        "```\n",
        "def arrays(arr):\n",
        "  l = arr[::-1];\n",
        "  l = numpy.array(l,float)\n",
        "  return l\n",
        "\n",
        "import numpy\n",
        "\n",
        "s = input()\n",
        "l = s.split(' ') # ['3', '3', ...... '3]\n",
        "\n",
        "for i in range(len(l)):\n",
        "  l[i] = int(l[i])\n",
        "\n",
        "print(numpy.zeros(l, dtype='int8'))\n",
        "print(numpy.ones(l, dtype='int8'))\n",
        "```"
      ],
      "metadata": {
        "id": "l_YczZPe6vE9"
      }
    },
    {
      "cell_type": "code",
      "source": [
        "# without using full function +\n",
        "ar = np.ones(12)*8\n",
        "print(ar)\n",
        "print(ar.size)\n",
        "print(ar.dtype)"
      ],
      "metadata": {
        "colab": {
          "base_uri": "https://localhost:8080/"
        },
        "id": "omwUBUs46nnS",
        "outputId": "478f1eac-5308-449e-ab28-6173ebd119f4"
      },
      "execution_count": 23,
      "outputs": [
        {
          "output_type": "stream",
          "name": "stdout",
          "text": [
            "[8. 8. 8. 8. 8. 8. 8. 8. 8. 8. 8. 8.]\n",
            "12\n",
            "float64\n"
          ]
        }
      ]
    },
    {
      "cell_type": "code",
      "source": [
        ""
      ],
      "metadata": {
        "id": "7GajkdUR7-Vv"
      },
      "execution_count": null,
      "outputs": []
    }
  ]
}