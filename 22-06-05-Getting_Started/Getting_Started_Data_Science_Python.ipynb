{
  "nbformat": 4,
  "nbformat_minor": 0,
  "metadata": {
    "colab": {
      "name": "Getting Started Data Science Python.ipynb",
      "provenance": [],
      "collapsed_sections": [],
      "authorship_tag": "ABX9TyNGZ/Mew2uQ0ZQAHKTBJ+6y",
      "include_colab_link": true
    },
    "kernelspec": {
      "name": "python3",
      "display_name": "Python 3"
    },
    "language_info": {
      "name": "python"
    }
  },
  "cells": [
    {
      "cell_type": "markdown",
      "metadata": {
        "id": "view-in-github",
        "colab_type": "text"
      },
      "source": [
        "<a href=\"https://colab.research.google.com/github/nikhil00shinde/Data-Science/blob/main/22-06-05-Getting_Started/Getting_Started_Data_Science_Python.ipynb\" target=\"_parent\"><img src=\"https://colab.research.google.com/assets/colab-badge.svg\" alt=\"Open In Colab\"/></a>"
      ]
    },
    {
      "cell_type": "markdown",
      "source": [
        "<h3>Getting Started with Python</h3>\n",
        "\n",
        "* IO (Input Output)\n",
        "    * DataTypes\n",
        "* Conditions\n",
        "    * if else\n",
        "    * if elif else\n",
        "* Loop\n",
        "* Functions\n",
        "* String\n",
        "* List\n",
        "* Set\n",
        "* Tuple\n",
        "* Map\n",
        "* Class Object"
      ],
      "metadata": {
        "id": "L7-HAD82yjQ2"
      }
    },
    {
      "cell_type": "markdown",
      "source": [
        "# IO"
      ],
      "metadata": {
        "id": "DVLe439A8oSG"
      }
    },
    {
      "cell_type": "code",
      "source": [
        "from google.colab import drive\n",
        "drive.mount('/content/drive')"
      ],
      "metadata": {
        "id": "wWeTftvF_sbi"
      },
      "execution_count": null,
      "outputs": []
    },
    {
      "cell_type": "code",
      "execution_count": null,
      "metadata": {
        "colab": {
          "base_uri": "https://localhost:8080/"
        },
        "id": "iPCDv54MyXk5",
        "outputId": "ee34cbaa-1a91-4fec-f4e3-1fb757d3017d"
      },
      "outputs": [
        {
          "output_type": "stream",
          "name": "stdout",
          "text": [
            "Hello, developer\n"
          ]
        }
      ],
      "source": [
        "print(\"Hello, developer\")"
      ]
    },
    {
      "cell_type": "markdown",
      "source": [
        "Problem -> print the pattern of Z with 5 columns in it."
      ],
      "metadata": {
        "id": "10CUOm9J8zFm"
      }
    },
    {
      "cell_type": "code",
      "source": [
        "print(\"*****\")\n",
        "print(\"   *\")\n",
        "print(\"  *\")\n",
        "print(\" *\")\n",
        "print(\"*****\")"
      ],
      "metadata": {
        "colab": {
          "base_uri": "https://localhost:8080/"
        },
        "id": "YOUFcGOm8wlX",
        "outputId": "68d13100-07e6-4ac5-aacc-f3b63ca6f401"
      },
      "execution_count": null,
      "outputs": [
        {
          "output_type": "stream",
          "name": "stdout",
          "text": [
            "*****\n",
            "   *\n",
            "  *\n",
            " *\n",
            "*****\n"
          ]
        }
      ]
    },
    {
      "cell_type": "code",
      "source": [
        "x = 5\n",
        "# x = 7\n",
        "ans = x * x\n",
        "print(ans)"
      ],
      "metadata": {
        "colab": {
          "base_uri": "https://localhost:8080/"
        },
        "id": "G8v4TEK09NwS",
        "outputId": "47781d01-66d6-422f-ae54-f36b150fcd92"
      },
      "execution_count": null,
      "outputs": [
        {
          "output_type": "stream",
          "name": "stdout",
          "text": [
            "25\n"
          ]
        }
      ]
    },
    {
      "cell_type": "markdown",
      "source": [
        "Problem --> https://www.hackerrank.com/challenges/python-division/problem?isFullScreen=false\n"
      ],
      "metadata": {
        "id": "aB5EnmHf98ld"
      }
    },
    {
      "cell_type": "code",
      "source": [
        "a = 3\n",
        "b = 2\n",
        "print(a/b)\n",
        "print(a//b)"
      ],
      "metadata": {
        "id": "NyiJ3Nyu9Wds",
        "colab": {
          "base_uri": "https://localhost:8080/"
        },
        "outputId": "74f625a7-10b6-4d6e-d217-881087e63f80"
      },
      "execution_count": null,
      "outputs": [
        {
          "output_type": "stream",
          "name": "stdout",
          "text": [
            "1.5\n",
            "1\n"
          ]
        }
      ]
    },
    {
      "cell_type": "code",
      "source": [
        "a = input()  #input from keyboard in string format\n",
        "print('Hii!! '+a)"
      ],
      "metadata": {
        "colab": {
          "base_uri": "https://localhost:8080/"
        },
        "id": "Mf_Og4_o3MzL",
        "outputId": "ac23f735-b2e3-49ba-98d6-394d03dc80d0"
      },
      "execution_count": null,
      "outputs": [
        {
          "output_type": "stream",
          "name": "stdout",
          "text": [
            "3\n",
            "Hii!! 3\n"
          ]
        }
      ]
    },
    {
      "cell_type": "code",
      "source": [
        "a = 123\n",
        "b = 12.345\n",
        "c = 'Hi bye my number is 123456 #%&* '\n",
        "\n",
        "print(type(a))\n",
        "print(type(b))\n",
        "print(type(c))"
      ],
      "metadata": {
        "colab": {
          "base_uri": "https://localhost:8080/"
        },
        "id": "U-Y8WQLp9P8-",
        "outputId": "715cfd47-e8a7-4b59-f155-227a696678cd"
      },
      "execution_count": null,
      "outputs": [
        {
          "output_type": "stream",
          "name": "stdout",
          "text": [
            "<class 'int'>\n",
            "<class 'float'>\n",
            "<class 'str'>\n"
          ]
        }
      ]
    },
    {
      "cell_type": "code",
      "source": [
        ""
      ],
      "metadata": {
        "id": "B414BezW93GC"
      },
      "execution_count": null,
      "outputs": []
    },
    {
      "cell_type": "markdown",
      "source": [
        "Variables name can only contains\n",
        "\n",
        "\n",
        "*   digit\n",
        "*   alphabet\n",
        "*   _\n",
        "\n",
        "name cannot be start with digit\n",
        "\n"
      ],
      "metadata": {
        "id": "zAaD98yD98Ne"
      }
    },
    {
      "cell_type": "code",
      "source": [
        "abc123 = 1212\n",
        "print(abc123)\n",
        "\n",
        "_acb = \"Hello World\"\n",
        "print(_acb)"
      ],
      "metadata": {
        "colab": {
          "base_uri": "https://localhost:8080/"
        },
        "id": "HPc21oFj-Kkr",
        "outputId": "51177248-6d7a-4e86-8610-a2b18dd8d826"
      },
      "execution_count": null,
      "outputs": [
        {
          "output_type": "stream",
          "name": "stdout",
          "text": [
            "1212\n",
            "Hello World\n"
          ]
        }
      ]
    },
    {
      "cell_type": "markdown",
      "source": [
        "# Run Os Commands\n"
      ],
      "metadata": {
        "id": "GhzIRV4JxYNC"
      }
    },
    {
      "cell_type": "code",
      "source": [
        "! cat ./sample_data/README.md"
      ],
      "metadata": {
        "id": "7PBm7ni5-XPk",
        "colab": {
          "base_uri": "https://localhost:8080/"
        },
        "outputId": "d2537a05-44bf-4529-a4ed-cfeb409dc8d3"
      },
      "execution_count": 1,
      "outputs": [
        {
          "output_type": "stream",
          "name": "stdout",
          "text": [
            "This directory includes a few sample datasets to get you started.\n",
            "\n",
            "*   `california_housing_data*.csv` is California housing data from the 1990 US\n",
            "    Census; more information is available at:\n",
            "    https://developers.google.com/machine-learning/crash-course/california-housing-data-description\n",
            "\n",
            "*   `mnist_*.csv` is a small sample of the\n",
            "    [MNIST database](https://en.wikipedia.org/wiki/MNIST_database), which is\n",
            "    described at: http://yann.lecun.com/exdb/mnist/\n",
            "\n",
            "*   `anscombe.json` contains a copy of\n",
            "    [Anscombe's quartet](https://en.wikipedia.org/wiki/Anscombe%27s_quartet); it\n",
            "    was originally described in\n",
            "\n",
            "    Anscombe, F. J. (1973). 'Graphs in Statistical Analysis'. American\n",
            "    Statistician. 27 (1): 17-21. JSTOR 2682899.\n",
            "\n",
            "    and our copy was prepared by the\n",
            "    [vega_datasets library](https://github.com/altair-viz/vega_datasets/blob/4f67bdaad10f45e3549984e17e1b3088c731503d/vega_datasets/_data/anscombe.json).\n"
          ]
        }
      ]
    },
    {
      "cell_type": "code",
      "source": [
        ""
      ],
      "metadata": {
        "id": "gGQCfKLkxuq5"
      },
      "execution_count": null,
      "outputs": []
    },
    {
      "cell_type": "code",
      "source": [
        ""
      ],
      "metadata": {
        "id": "LrN7yK531XmR"
      },
      "execution_count": null,
      "outputs": []
    },
    {
      "cell_type": "markdown",
      "source": [
        "# Conditions"
      ],
      "metadata": {
        "id": "r_Y-mUkO1f0f"
      }
    },
    {
      "cell_type": "markdown",
      "source": [
        "## if else"
      ],
      "metadata": {
        "id": "pQCMh7ao1mZP"
      }
    },
    {
      "cell_type": "code",
      "source": [
        "age = 23\n",
        "\n",
        "if age <= 18:\n",
        "  print(\"Balik\")\n",
        "  print(\"Baccha Hai\")\n",
        "else:\n",
        "  print(\"Na Balik\")\n",
        "\n",
        "print(\"outside if block\")"
      ],
      "metadata": {
        "colab": {
          "base_uri": "https://localhost:8080/"
        },
        "id": "SnqQq2UF1iVU",
        "outputId": "b91c7df0-9077-4c9e-e76f-3c59cf67b941"
      },
      "execution_count": 4,
      "outputs": [
        {
          "output_type": "stream",
          "name": "stdout",
          "text": [
            "Na Balik\n",
            "outside if block\n"
          ]
        }
      ]
    },
    {
      "cell_type": "markdown",
      "source": [
        "## Nested If Else"
      ],
      "metadata": {
        "id": "kd1TAIa-19so"
      }
    },
    {
      "cell_type": "code",
      "source": [
        "age = 17\n",
        "\n",
        "if age <= 18:\n",
        "  print(\"Baccha hai\")\n",
        "else:\n",
        "   if age<=50:\n",
        "     print(\"Jawan hai\")\n",
        "   else:\n",
        "     print(\"Old man\")\n",
        "\n",
        "print(\"outside if block\")"
      ],
      "metadata": {
        "id": "RE4uC3A01xKG"
      },
      "execution_count": null,
      "outputs": []
    },
    {
      "cell_type": "markdown",
      "source": [
        "## ELIF"
      ],
      "metadata": {
        "id": "lHKsN6sz4khX"
      }
    },
    {
      "cell_type": "code",
      "source": [
        "age = 23\n",
        "\n",
        "if age <= 18:\n",
        "  print(\"Baccha hai\")\n",
        "elif age <= 50:\n",
        "  print(\"Jawan hai\")\n",
        "else:\n",
        "  print(\"else\")\n",
        "\n",
        "print(\"outside if block\")"
      ],
      "metadata": {
        "colab": {
          "base_uri": "https://localhost:8080/"
        },
        "id": "PwlSxrh14hpW",
        "outputId": "b57e2597-4817-444e-a5d8-ee6fe04dcc6e"
      },
      "execution_count": 5,
      "outputs": [
        {
          "output_type": "stream",
          "name": "stdout",
          "text": [
            "Jawan hai\n",
            "outside if block\n"
          ]
        }
      ]
    },
    {
      "cell_type": "markdown",
      "source": [
        "Problem -> https://www.hackerrank.com/challenges/py-if-else/problem?isFullScreen=false"
      ],
      "metadata": {
        "id": "VPCfv7PN5kCU"
      }
    },
    {
      "cell_type": "code",
      "source": [
        ""
      ],
      "metadata": {
        "id": "Tvss1MH65B2j"
      },
      "execution_count": null,
      "outputs": []
    }
  ]
}