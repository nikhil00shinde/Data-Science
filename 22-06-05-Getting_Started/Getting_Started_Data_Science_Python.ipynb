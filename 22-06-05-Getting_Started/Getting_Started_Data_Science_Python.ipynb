{
  "nbformat": 4,
  "nbformat_minor": 0,
  "metadata": {
    "colab": {
      "name": "Getting Started Data Science Python.ipynb",
      "provenance": [],
      "collapsed_sections": [
        "DVLe439A8oSG",
        "GhzIRV4JxYNC",
        "r_Y-mUkO1f0f"
      ],
      "authorship_tag": "ABX9TyO+Y03ZU1KzoUQUlR5LOgsL",
      "include_colab_link": true
    },
    "kernelspec": {
      "name": "python3",
      "display_name": "Python 3"
    },
    "language_info": {
      "name": "python"
    }
  },
  "cells": [
    {
      "cell_type": "markdown",
      "metadata": {
        "id": "view-in-github",
        "colab_type": "text"
      },
      "source": [
        "<a href=\"https://colab.research.google.com/github/nikhil00shinde/Data-Science/blob/main/22-06-05-Getting_Started/Getting_Started_Data_Science_Python.ipynb\" target=\"_parent\"><img src=\"https://colab.research.google.com/assets/colab-badge.svg\" alt=\"Open In Colab\"/></a>"
      ]
    },
    {
      "cell_type": "markdown",
      "source": [
        "<h3>Getting Started with Python</h3>\n",
        "\n",
        "* IO (Input Output)\n",
        "    * DataTypes\n",
        "* Conditions\n",
        "    * if else\n",
        "    * if elif else\n",
        "* Loop\n",
        "    * for\n",
        "    * while[-]\n",
        "* Functions\n",
        "* String\n",
        "* List\n",
        "* Set\n",
        "* Tuple\n",
        "* Map\n",
        "* Class Object"
      ],
      "metadata": {
        "id": "L7-HAD82yjQ2"
      }
    },
    {
      "cell_type": "markdown",
      "source": [
        "# IO"
      ],
      "metadata": {
        "id": "DVLe439A8oSG"
      }
    },
    {
      "cell_type": "code",
      "source": [
        "from google.colab import drive\n",
        "drive.mount('/content/drive')"
      ],
      "metadata": {
        "id": "wWeTftvF_sbi"
      },
      "execution_count": null,
      "outputs": []
    },
    {
      "cell_type": "code",
      "execution_count": null,
      "metadata": {
        "colab": {
          "base_uri": "https://localhost:8080/"
        },
        "id": "iPCDv54MyXk5",
        "outputId": "ee34cbaa-1a91-4fec-f4e3-1fb757d3017d"
      },
      "outputs": [
        {
          "output_type": "stream",
          "name": "stdout",
          "text": [
            "Hello, developer\n"
          ]
        }
      ],
      "source": [
        "print(\"Hello, developer\")"
      ]
    },
    {
      "cell_type": "markdown",
      "source": [
        "Problem -> print the pattern of Z with 5 columns in it."
      ],
      "metadata": {
        "id": "10CUOm9J8zFm"
      }
    },
    {
      "cell_type": "code",
      "source": [
        "print(\"*****\")\n",
        "print(\"   *\")\n",
        "print(\"  *\")\n",
        "print(\" *\")\n",
        "print(\"*****\")"
      ],
      "metadata": {
        "colab": {
          "base_uri": "https://localhost:8080/"
        },
        "id": "YOUFcGOm8wlX",
        "outputId": "68d13100-07e6-4ac5-aacc-f3b63ca6f401"
      },
      "execution_count": null,
      "outputs": [
        {
          "output_type": "stream",
          "name": "stdout",
          "text": [
            "*****\n",
            "   *\n",
            "  *\n",
            " *\n",
            "*****\n"
          ]
        }
      ]
    },
    {
      "cell_type": "code",
      "source": [
        "x = 5\n",
        "# x = 7\n",
        "ans = x * x\n",
        "print(ans)"
      ],
      "metadata": {
        "colab": {
          "base_uri": "https://localhost:8080/"
        },
        "id": "G8v4TEK09NwS",
        "outputId": "47781d01-66d6-422f-ae54-f36b150fcd92"
      },
      "execution_count": null,
      "outputs": [
        {
          "output_type": "stream",
          "name": "stdout",
          "text": [
            "25\n"
          ]
        }
      ]
    },
    {
      "cell_type": "markdown",
      "source": [
        "Problem --> https://www.hackerrank.com/challenges/python-division/problem?isFullScreen=false\n"
      ],
      "metadata": {
        "id": "aB5EnmHf98ld"
      }
    },
    {
      "cell_type": "code",
      "source": [
        "a = 3\n",
        "b = 2\n",
        "print(a/b)\n",
        "print(a//b)"
      ],
      "metadata": {
        "id": "NyiJ3Nyu9Wds",
        "colab": {
          "base_uri": "https://localhost:8080/"
        },
        "outputId": "74f625a7-10b6-4d6e-d217-881087e63f80"
      },
      "execution_count": null,
      "outputs": [
        {
          "output_type": "stream",
          "name": "stdout",
          "text": [
            "1.5\n",
            "1\n"
          ]
        }
      ]
    },
    {
      "cell_type": "code",
      "source": [
        "a = input()  #input from keyboard in string format\n",
        "print('Hii!! '+a)"
      ],
      "metadata": {
        "colab": {
          "base_uri": "https://localhost:8080/"
        },
        "id": "Mf_Og4_o3MzL",
        "outputId": "ac23f735-b2e3-49ba-98d6-394d03dc80d0"
      },
      "execution_count": null,
      "outputs": [
        {
          "output_type": "stream",
          "name": "stdout",
          "text": [
            "3\n",
            "Hii!! 3\n"
          ]
        }
      ]
    },
    {
      "cell_type": "code",
      "source": [
        "a = 123\n",
        "b = 12.345\n",
        "c = 'Hi bye my number is 123456 #%&* '\n",
        "\n",
        "print(type(a))\n",
        "print(type(b))\n",
        "print(type(c))"
      ],
      "metadata": {
        "colab": {
          "base_uri": "https://localhost:8080/"
        },
        "id": "U-Y8WQLp9P8-",
        "outputId": "715cfd47-e8a7-4b59-f155-227a696678cd"
      },
      "execution_count": null,
      "outputs": [
        {
          "output_type": "stream",
          "name": "stdout",
          "text": [
            "<class 'int'>\n",
            "<class 'float'>\n",
            "<class 'str'>\n"
          ]
        }
      ]
    },
    {
      "cell_type": "code",
      "source": [
        ""
      ],
      "metadata": {
        "id": "B414BezW93GC"
      },
      "execution_count": null,
      "outputs": []
    },
    {
      "cell_type": "markdown",
      "source": [
        "Variables name can only contains\n",
        "\n",
        "\n",
        "*   digit\n",
        "*   alphabet\n",
        "*   _\n",
        "\n",
        "name cannot be start with digit\n",
        "\n"
      ],
      "metadata": {
        "id": "zAaD98yD98Ne"
      }
    },
    {
      "cell_type": "code",
      "source": [
        "abc123 = 1212\n",
        "print(abc123)\n",
        "\n",
        "_acb = \"Hello World\"\n",
        "print(_acb)"
      ],
      "metadata": {
        "colab": {
          "base_uri": "https://localhost:8080/"
        },
        "id": "HPc21oFj-Kkr",
        "outputId": "51177248-6d7a-4e86-8610-a2b18dd8d826"
      },
      "execution_count": null,
      "outputs": [
        {
          "output_type": "stream",
          "name": "stdout",
          "text": [
            "1212\n",
            "Hello World\n"
          ]
        }
      ]
    },
    {
      "cell_type": "markdown",
      "source": [
        "# Run Os Commands\n"
      ],
      "metadata": {
        "id": "GhzIRV4JxYNC"
      }
    },
    {
      "cell_type": "code",
      "source": [
        "! cat ./sample_data/README.md"
      ],
      "metadata": {
        "id": "7PBm7ni5-XPk",
        "colab": {
          "base_uri": "https://localhost:8080/"
        },
        "outputId": "d2537a05-44bf-4529-a4ed-cfeb409dc8d3"
      },
      "execution_count": null,
      "outputs": [
        {
          "output_type": "stream",
          "name": "stdout",
          "text": [
            "This directory includes a few sample datasets to get you started.\n",
            "\n",
            "*   `california_housing_data*.csv` is California housing data from the 1990 US\n",
            "    Census; more information is available at:\n",
            "    https://developers.google.com/machine-learning/crash-course/california-housing-data-description\n",
            "\n",
            "*   `mnist_*.csv` is a small sample of the\n",
            "    [MNIST database](https://en.wikipedia.org/wiki/MNIST_database), which is\n",
            "    described at: http://yann.lecun.com/exdb/mnist/\n",
            "\n",
            "*   `anscombe.json` contains a copy of\n",
            "    [Anscombe's quartet](https://en.wikipedia.org/wiki/Anscombe%27s_quartet); it\n",
            "    was originally described in\n",
            "\n",
            "    Anscombe, F. J. (1973). 'Graphs in Statistical Analysis'. American\n",
            "    Statistician. 27 (1): 17-21. JSTOR 2682899.\n",
            "\n",
            "    and our copy was prepared by the\n",
            "    [vega_datasets library](https://github.com/altair-viz/vega_datasets/blob/4f67bdaad10f45e3549984e17e1b3088c731503d/vega_datasets/_data/anscombe.json).\n"
          ]
        }
      ]
    },
    {
      "cell_type": "code",
      "source": [
        ""
      ],
      "metadata": {
        "id": "gGQCfKLkxuq5"
      },
      "execution_count": null,
      "outputs": []
    },
    {
      "cell_type": "code",
      "source": [
        ""
      ],
      "metadata": {
        "id": "LrN7yK531XmR"
      },
      "execution_count": null,
      "outputs": []
    },
    {
      "cell_type": "markdown",
      "source": [
        "# Conditions"
      ],
      "metadata": {
        "id": "r_Y-mUkO1f0f"
      }
    },
    {
      "cell_type": "markdown",
      "source": [
        "## if else"
      ],
      "metadata": {
        "id": "pQCMh7ao1mZP"
      }
    },
    {
      "cell_type": "code",
      "source": [
        "age = 23\n",
        "\n",
        "if age <= 18:\n",
        "  print(\"Balik\")\n",
        "  print(\"Baccha Hai\")\n",
        "else:\n",
        "  print(\"Na Balik\")\n",
        "\n",
        "print(\"outside if block\")"
      ],
      "metadata": {
        "colab": {
          "base_uri": "https://localhost:8080/"
        },
        "id": "SnqQq2UF1iVU",
        "outputId": "b91c7df0-9077-4c9e-e76f-3c59cf67b941"
      },
      "execution_count": null,
      "outputs": [
        {
          "output_type": "stream",
          "name": "stdout",
          "text": [
            "Na Balik\n",
            "outside if block\n"
          ]
        }
      ]
    },
    {
      "cell_type": "markdown",
      "source": [
        "## Nested If Else"
      ],
      "metadata": {
        "id": "kd1TAIa-19so"
      }
    },
    {
      "cell_type": "code",
      "source": [
        "age = 17\n",
        "\n",
        "if age <= 18:\n",
        "  print(\"Baccha hai\")\n",
        "else:\n",
        "   if age<=50:\n",
        "     print(\"Jawan hai\")\n",
        "   else:\n",
        "     print(\"Old man\")\n",
        "\n",
        "print(\"outside if block\")"
      ],
      "metadata": {
        "id": "RE4uC3A01xKG"
      },
      "execution_count": null,
      "outputs": []
    },
    {
      "cell_type": "markdown",
      "source": [
        "## ELIF"
      ],
      "metadata": {
        "id": "lHKsN6sz4khX"
      }
    },
    {
      "cell_type": "code",
      "source": [
        "age = 23\n",
        "\n",
        "if age <= 18:\n",
        "  print(\"Baccha hai\")\n",
        "elif age <= 50:\n",
        "  print(\"Jawan hai\")\n",
        "else:\n",
        "  print(\"else\")\n",
        "\n",
        "print(\"outside if block\")"
      ],
      "metadata": {
        "colab": {
          "base_uri": "https://localhost:8080/"
        },
        "id": "PwlSxrh14hpW",
        "outputId": "b57e2597-4817-444e-a5d8-ee6fe04dcc6e"
      },
      "execution_count": null,
      "outputs": [
        {
          "output_type": "stream",
          "name": "stdout",
          "text": [
            "Jawan hai\n",
            "outside if block\n"
          ]
        }
      ]
    },
    {
      "cell_type": "markdown",
      "source": [
        "Problem -> https://www.hackerrank.com/challenges/py-if-else/problem?isFullScreen=false"
      ],
      "metadata": {
        "id": "VPCfv7PN5kCU"
      }
    },
    {
      "cell_type": "markdown",
      "source": [
        "# Loop\n",
        "\n",
        "`range(start, stop, step)`\n",
        "\n",
        "\n",
        "\n",
        "*   start: included\n",
        "*   stop:  excluded\n",
        "*   step:  step size\n",
        "\n",
        "\n",
        "\n",
        "* range(3)       [0, 3)\n",
        "* range(2,7)     [2, 7)\n",
        "* range(2,7,3)   [2, 7) +3 2,5\n",
        "* continue\n",
        "* break"
      ],
      "metadata": {
        "id": "HyptzKRZ2VMz"
      }
    },
    {
      "cell_type": "code",
      "source": [
        "for i in range(2,8):\n",
        "  print(i)"
      ],
      "metadata": {
        "colab": {
          "base_uri": "https://localhost:8080/"
        },
        "id": "3PCJxQMH2Z8-",
        "outputId": "b51d1a06-8df1-49f9-9011-28d80461f850"
      },
      "execution_count": null,
      "outputs": [
        {
          "output_type": "stream",
          "name": "stdout",
          "text": [
            "0\n",
            "1\n",
            "2\n",
            "3\n",
            "4\n"
          ]
        }
      ]
    },
    {
      "cell_type": "code",
      "source": [
        "for i in range(2,12,3):\n",
        "  print(i)"
      ],
      "metadata": {
        "colab": {
          "base_uri": "https://localhost:8080/"
        },
        "id": "BVS4ENdl26JA",
        "outputId": "0fb788cd-a800-46ed-8b04-da2676a46771"
      },
      "execution_count": null,
      "outputs": [
        {
          "output_type": "stream",
          "name": "stdout",
          "text": [
            "2\n",
            "5\n",
            "8\n",
            "11\n"
          ]
        }
      ]
    },
    {
      "cell_type": "code",
      "source": [
        "for i in range(7,2,-1):\n",
        "  print(\"Hello\",i)"
      ],
      "metadata": {
        "colab": {
          "base_uri": "https://localhost:8080/"
        },
        "id": "dy79v0uW_bMM",
        "outputId": "3915ab51-02c9-4f97-a9f8-298d2fb94510"
      },
      "execution_count": null,
      "outputs": [
        {
          "output_type": "stream",
          "name": "stdout",
          "text": [
            "Hello 7\n",
            "Hello 6\n",
            "Hello 5\n",
            "Hello 4\n",
            "Hello 3\n"
          ]
        }
      ]
    },
    {
      "cell_type": "code",
      "source": [
        "for i in range(5):\n",
        "  print(\"hello\")"
      ],
      "metadata": {
        "colab": {
          "base_uri": "https://localhost:8080/"
        },
        "id": "BhhGYFI32-BZ",
        "outputId": "f24295d2-1226-4c34-cc33-df050046bf29"
      },
      "execution_count": null,
      "outputs": [
        {
          "output_type": "stream",
          "name": "stdout",
          "text": [
            "hello\n",
            "hello\n",
            "hello\n",
            "hello\n",
            "hello\n"
          ]
        }
      ]
    },
    {
      "cell_type": "markdown",
      "source": [
        "Problems: https://www.hackerrank.com/challenges/python-loops/problem?isFullScreen=false"
      ],
      "metadata": {
        "id": "J33tnsBu_jXo"
      }
    },
    {
      "cell_type": "code",
      "source": [
        "a = input() # input in string format\n",
        "a = int(a)\n",
        "print(type(a),a+23)"
      ],
      "metadata": {
        "colab": {
          "base_uri": "https://localhost:8080/"
        },
        "id": "MUFsrEgzAG9l",
        "outputId": "5d08c334-18d9-478a-9a33-0052d5272b27"
      },
      "execution_count": null,
      "outputs": [
        {
          "output_type": "stream",
          "name": "stdout",
          "text": [
            "123\n",
            "<class 'int'> 146\n"
          ]
        }
      ]
    },
    {
      "cell_type": "code",
      "source": [
        "n = 5\n",
        "\n",
        "for i in range(n):\n",
        "  print(i*i)"
      ],
      "metadata": {
        "colab": {
          "base_uri": "https://localhost:8080/"
        },
        "id": "7Kxq2gmzDtVU",
        "outputId": "3ed80b81-f3e5-400c-e65e-67cf0ad876d9"
      },
      "execution_count": null,
      "outputs": [
        {
          "output_type": "stream",
          "name": "stdout",
          "text": [
            "0\n",
            "1\n",
            "4\n",
            "9\n",
            "16\n"
          ]
        }
      ]
    },
    {
      "cell_type": "markdown",
      "source": [
        "# Functions\n",
        "\n",
        "Why??\n",
        "\n",
        "\n",
        "*   Code re-use\n",
        "*   easy debugging\n",
        "\n",
        "Usage\n",
        "\n",
        "* function call is replaced by returned value\n",
        "* Default value `def add(a,b,c=0,d=0)`\n",
        "* PassByName `add(1,3,d=9,c=3)`\n",
        "\n"
      ],
      "metadata": {
        "id": "q5hBThsBmdEb"
      }
    },
    {
      "cell_type": "code",
      "source": [
        "n = 4\n",
        "r = 2\n",
        "\n",
        "nf = 1 # 1*2*3*4...*n\n",
        "for i in range(1,n+1):\n",
        "  nf *= i\n",
        "\n",
        "rf = 1\n",
        "for i in range(1,r+1):\n",
        "  rf *= i\n",
        "\n",
        "nmrf = 1\n",
        "for i in range(1,n-r+1):\n",
        "  nmrf *= i\n",
        "\n",
        "print(nf/(rf*nmrf))\n"
      ],
      "metadata": {
        "id": "I4q9Y-asD0z1",
        "colab": {
          "base_uri": "https://localhost:8080/"
        },
        "outputId": "d1a0a1e5-b8b9-4b86-b81e-098128a6b618"
      },
      "execution_count": null,
      "outputs": [
        {
          "output_type": "stream",
          "name": "stdout",
          "text": [
            "6.0\n"
          ]
        }
      ]
    },
    {
      "cell_type": "code",
      "source": [
        "n = 4\n",
        "r = 2\n",
        "\n",
        "def fact(x):\n",
        "  ans = 1\n",
        "  for i in range(1,x+1):\n",
        "    ans *= i\n",
        "  return ans\n",
        "\n",
        "nf = fact(n)\n",
        "rf = fact(r)\n",
        "nmrf = fact(n-r)\n",
        "\n",
        "print(nf/(rf*nmrf))"
      ],
      "metadata": {
        "colab": {
          "base_uri": "https://localhost:8080/"
        },
        "id": "60D0j2ZoaTAo",
        "outputId": "345dd6d7-a910-4693-904c-69ffaf5ec9db"
      },
      "execution_count": null,
      "outputs": [
        {
          "output_type": "stream",
          "name": "stdout",
          "text": [
            "6.0\n"
          ]
        }
      ]
    },
    {
      "cell_type": "code",
      "source": [
        "def fun5():\n",
        "   return 2\n",
        "\n",
        "print(10-fun5())"
      ],
      "metadata": {
        "colab": {
          "base_uri": "https://localhost:8080/"
        },
        "id": "0z9ZlQYibXP7",
        "outputId": "15887f45-4195-4885-e856-f5add617edd0"
      },
      "execution_count": null,
      "outputs": [
        {
          "output_type": "stream",
          "name": "stdout",
          "text": [
            "8\n"
          ]
        }
      ]
    },
    {
      "cell_type": "markdown",
      "source": [
        "Problems: Frequency\n",
        "\n",
        "Learn\n",
        "while loop"
      ],
      "metadata": {
        "id": "eEhjU4CSlqBI"
      }
    },
    {
      "cell_type": "code",
      "source": [
        "def fun():\n",
        "  return \"hello world\"\n",
        "\n",
        "fun()\n",
        "fun()\n",
        "fun()\n"
      ],
      "metadata": {
        "colab": {
          "base_uri": "https://localhost:8080/",
          "height": 36
        },
        "id": "NXv1fVUBla68",
        "outputId": "cc33ead6-1fc2-4ce9-b214-8bf9d05fcffb"
      },
      "execution_count": null,
      "outputs": [
        {
          "output_type": "execute_result",
          "data": {
            "text/plain": [
              "'hello world'"
            ],
            "application/vnd.google.colaboratory.intrinsic+json": {
              "type": "string"
            }
          },
          "metadata": {},
          "execution_count": 6
        }
      ]
    },
    {
      "cell_type": "markdown",
      "source": [
        "## add 2 numbers"
      ],
      "metadata": {
        "id": "rw_P4O-JyXZo"
      }
    },
    {
      "cell_type": "code",
      "source": [
        "def add(a,b):\n",
        "  return a+b\n",
        "\n",
        "ans = add(2,5)\n",
        "print(ans)"
      ],
      "metadata": {
        "colab": {
          "base_uri": "https://localhost:8080/"
        },
        "id": "R3GAHlwxyQKH",
        "outputId": "f2753129-9f99-49d4-cc5b-454a366598a2"
      },
      "execution_count": null,
      "outputs": [
        {
          "output_type": "stream",
          "name": "stdout",
          "text": [
            "7\n"
          ]
        }
      ]
    },
    {
      "cell_type": "code",
      "source": [
        "ans = add(\"hii\",\"bye\")\n",
        "print(ans)"
      ],
      "metadata": {
        "colab": {
          "base_uri": "https://localhost:8080/"
        },
        "id": "MN3I71-Xye1v",
        "outputId": "90f95312-6197-474c-aa3a-bb3b89a21d25"
      },
      "execution_count": null,
      "outputs": [
        {
          "output_type": "stream",
          "name": "stdout",
          "text": [
            "hiibye\n"
          ]
        }
      ]
    },
    {
      "cell_type": "code",
      "source": [
        "'abc' + 'def'"
      ],
      "metadata": {
        "id": "ilkvXq3nyq0x",
        "outputId": "168f8384-957a-4212-aec7-4bac68cc9d92",
        "colab": {
          "base_uri": "https://localhost:8080/",
          "height": 36
        }
      },
      "execution_count": null,
      "outputs": [
        {
          "output_type": "execute_result",
          "data": {
            "text/plain": [
              "'abcdef'"
            ],
            "application/vnd.google.colaboratory.intrinsic+json": {
              "type": "string"
            }
          },
          "metadata": {},
          "execution_count": 12
        }
      ]
    },
    {
      "cell_type": "code",
      "source": [
        "def add(a,b,c=0,d=0):\n",
        "  return a+b+c+d\n",
        "\n",
        "ans = add(1,2,3)\n",
        "print(ans)"
      ],
      "metadata": {
        "id": "2uOfrrNvyuO8",
        "colab": {
          "base_uri": "https://localhost:8080/"
        },
        "outputId": "829961fe-b69a-456d-d754-b7ebd09f7c4c"
      },
      "execution_count": null,
      "outputs": [
        {
          "output_type": "stream",
          "name": "stdout",
          "text": [
            "6\n"
          ]
        }
      ]
    },
    {
      "cell_type": "markdown",
      "source": [
        "### Pass by name"
      ],
      "metadata": {
        "id": "9wAH2iPoaUnz"
      }
    },
    {
      "cell_type": "code",
      "source": [
        "def add(a,b,c=1,d=1):\n",
        "  print(\"a:\",a)\n",
        "  print(\"b:\",b)\n",
        "  print(\"c:\",c)\n",
        "  print(\"d:\",d)\n",
        "\n",
        "  return (a+b+c)*d\n",
        "\n",
        "ans = add(2,4,d=2,c=5)\n",
        "print(ans)\n"
      ],
      "metadata": {
        "colab": {
          "base_uri": "https://localhost:8080/"
        },
        "id": "Hc20dVVKXfZA",
        "outputId": "191d6610-70e1-49e1-c7c5-871d10b9be24"
      },
      "execution_count": null,
      "outputs": [
        {
          "output_type": "stream",
          "name": "stdout",
          "text": [
            "a: 2\n",
            "b: 4\n",
            "c: 5\n",
            "d: 2\n",
            "22\n"
          ]
        }
      ]
    },
    {
      "cell_type": "code",
      "source": [
        ""
      ],
      "metadata": {
        "id": "2-Mw9L-HasdH"
      },
      "execution_count": null,
      "outputs": []
    },
    {
      "cell_type": "markdown",
      "source": [
        "# String\n",
        "\n",
        "\n",
        "\n",
        "*   Escape Character\n",
        "         * `\\' \\\" \\t \\\\`\n",
        "*   strip,upper,lower\n",
        "*   format\n",
        "       * `'Hii {}'.format(variable)`\n",
        "       * `f'Hii {variable}'`\n",
        "\n"
      ],
      "metadata": {
        "id": "QKFeBw7TtA5V"
      }
    },
    {
      "cell_type": "code",
      "source": [
        "s = 'my name is nikhil, my email is shinden523@'\n",
        "s = \"my name ' is nikhil, my email is shinden523@\"\n",
        "s = ''' my name ' \" is nikhil 1234567 @#$%% '''\n",
        "print(s)\n"
      ],
      "metadata": {
        "colab": {
          "base_uri": "https://localhost:8080/"
        },
        "id": "OCJwnTyotC4u",
        "outputId": "3f083c81-04c3-4298-8690-bdf625f31940"
      },
      "execution_count": null,
      "outputs": [
        {
          "output_type": "stream",
          "name": "stdout",
          "text": [
            " my name ' \" is nikhil 1234567 @#$%% \n"
          ]
        }
      ]
    },
    {
      "cell_type": "code",
      "source": [
        "# Escape character\n",
        "\n",
        "s = ' my name \\' \\\" \\\\ is nikhil 1234567 @3$%% '\n",
        "print(s)"
      ],
      "metadata": {
        "colab": {
          "base_uri": "https://localhost:8080/"
        },
        "id": "_GBG5nKjt43I",
        "outputId": "343b2d91-ef67-45fc-8528-890eeb56ea32"
      },
      "execution_count": null,
      "outputs": [
        {
          "output_type": "stream",
          "name": "stdout",
          "text": [
            " my name ' \" \\ is nikhil 1234567 @3$%%\n"
          ]
        }
      ]
    },
    {
      "cell_type": "code",
      "source": [
        "print('nitin \\t\\t123')\n",
        "print('prince \\t\\t656')\n",
        "print('shivam \\t\\t651')\n",
        "print('Luvkush \\t\\t653')\n"
      ],
      "metadata": {
        "colab": {
          "base_uri": "https://localhost:8080/"
        },
        "id": "oMllMnUWuT8G",
        "outputId": "c95fce59-5f1e-4d6b-8033-7234b1964b46"
      },
      "execution_count": null,
      "outputs": [
        {
          "output_type": "stream",
          "name": "stdout",
          "text": [
            "nitin \t\t123\n",
            "prince \t\t656\n",
            "shivam \t\t651\n",
            "Luvkush \t\t653\n"
          ]
        }
      ]
    },
    {
      "cell_type": "code",
      "source": [
        "print(s)\n",
        "s.strip()  # removes starting/ending white spaces"
      ],
      "metadata": {
        "colab": {
          "base_uri": "https://localhost:8080/",
          "height": 53
        },
        "id": "XIe5BJQmuh95",
        "outputId": "f3909421-7f6a-4ca0-ad85-eb514508bb47"
      },
      "execution_count": null,
      "outputs": [
        {
          "output_type": "stream",
          "name": "stdout",
          "text": [
            " my name ' \" \\ is nikhil 1234567 @3$%%\n"
          ]
        },
        {
          "output_type": "execute_result",
          "data": {
            "text/plain": [
              "'my name \\' \" \\\\ is nikhil 1234567 @3$%%'"
            ],
            "application/vnd.google.colaboratory.intrinsic+json": {
              "type": "string"
            }
          },
          "metadata": {},
          "execution_count": 12
        }
      ]
    },
    {
      "cell_type": "code",
      "source": [
        "print(s.upper())\n",
        "print(s.lower())"
      ],
      "metadata": {
        "colab": {
          "base_uri": "https://localhost:8080/"
        },
        "id": "0uPabtejutUZ",
        "outputId": "81c84c35-422a-45be-fd2b-5d50dad81010"
      },
      "execution_count": null,
      "outputs": [
        {
          "output_type": "stream",
          "name": "stdout",
          "text": [
            " MY NAME ' \" \\ IS NIKHIL 1234567 @3$%%\n",
            " my name ' \" \\ is nikhil 1234567 @3$%%\n"
          ]
        }
      ]
    },
    {
      "cell_type": "markdown",
      "source": [
        "## Indexing\n"
      ],
      "metadata": {
        "id": "3uUMXLy3v3DA"
      }
    },
    {
      "cell_type": "code",
      "source": [
        "print(s)\n",
        "print(s[1],s[0],s[-2])"
      ],
      "metadata": {
        "colab": {
          "base_uri": "https://localhost:8080/"
        },
        "id": "YXyOR9opvtBt",
        "outputId": "3040bce9-af4f-4b2c-cf2b-a8a63f72a842"
      },
      "execution_count": null,
      "outputs": [
        {
          "output_type": "stream",
          "name": "stdout",
          "text": [
            " my name ' \" \\ is nikhil 1234567 @3$%%\n",
            "m   %\n"
          ]
        }
      ]
    },
    {
      "cell_type": "code",
      "source": [
        "s = \"abcd\"\n",
        "print(s,len(s))\n",
        "\n",
        "for i in range(len(s)):\n",
        "  print(i,s[i])\n",
        "\n",
        "\n",
        "for c in s:\n",
        "  print(c)"
      ],
      "metadata": {
        "colab": {
          "base_uri": "https://localhost:8080/"
        },
        "id": "lo8zXW6Wv9aI",
        "outputId": "9346fea0-52e0-4a9c-eb51-d4e76b3e4f35"
      },
      "execution_count": null,
      "outputs": [
        {
          "output_type": "stream",
          "name": "stdout",
          "text": [
            "abcd 4\n",
            "0 a\n",
            "1 b\n",
            "2 c\n",
            "3 d\n",
            "a\n",
            "b\n",
            "c\n",
            "d\n"
          ]
        }
      ]
    },
    {
      "cell_type": "markdown",
      "source": [
        "# List\n",
        "\n",
        "* append\n",
        "* extend: `[1,2,3] + [4,5,6] = [1,2,3,4,5,6]`\n"
      ],
      "metadata": {
        "id": "hc_3R2kMWGm-"
      }
    },
    {
      "cell_type": "markdown",
      "source": [
        "\"Ayaan\", \"chaitanya\", \"Dhairya\", \"Divyansh\", \"Shraiya\", \"Nidhi\", \"gokul\", \"Harsh\", \"Harshit\", \"Himanshu\", \"Nidhi\", \"Nusrat\", \"prince\", \"Radhika\", \"Vedant\", \"Harshit\", \"Divyansh\", \"mantraksha\","
      ],
      "metadata": {
        "id": "tja-7y0hzr98"
      }
    },
    {
      "cell_type": "code",
      "source": [
        "l = [\"Ayaan\",'Chaitanya','''Dhairya''',123,True,False,90.556]\n",
        "\n",
        "for name in l:\n",
        "  # print(name +' Good Evening') # Gives error\n",
        "  # print(name, ' Good Evening')\n",
        "  print(f'{name} Goog Evening')"
      ],
      "metadata": {
        "colab": {
          "base_uri": "https://localhost:8080/"
        },
        "id": "3qVDl5ZmWHyB",
        "outputId": "afc04051-7a25-4566-fbc0-45e5e009581d"
      },
      "execution_count": 3,
      "outputs": [
        {
          "output_type": "stream",
          "name": "stdout",
          "text": [
            "Ayaan Goog Evening\n",
            "Chaitanya Goog Evening\n",
            "Dhairya Goog Evening\n",
            "123 Goog Evening\n",
            "True Goog Evening\n",
            "False Goog Evening\n",
            "90.556 Goog Evening\n"
          ]
        }
      ]
    },
    {
      "cell_type": "code",
      "source": [
        "name1 = \"Diwakar\"\n",
        "name2 = \"Gokul\"\n",
        "\n",
        "s = 'Good Evening {} , {}'.format(name1,name2)\n",
        "s = f'Good Evening {name1} and {name2}'\n",
        "print(s)\n"
      ],
      "metadata": {
        "colab": {
          "base_uri": "https://localhost:8080/"
        },
        "id": "rL2sy7T-WvvA",
        "outputId": "22d81ae3-41d9-4b1c-abd7-4a91469bd86b"
      },
      "execution_count": 6,
      "outputs": [
        {
          "output_type": "stream",
          "name": "stdout",
          "text": [
            "Good Evening Diwakar and Gokul\n"
          ]
        }
      ]
    },
    {
      "cell_type": "code",
      "source": [
        "class_students = [\"Ayaan\",\n",
        "\"chaitanya\",\n",
        "\"Dhairya\",\n",
        "\"Divyansh\",\n",
        "\"Shraiya\",\n",
        "\"Nidhi\",\n",
        "\"gokul\",\n",
        "\"Mantraksha\"\n",
        "\"Harsh\",\n",
        "\"Harshit\",\n",
        "\"Himanshu\",\n",
        "\"nidhi\",\n",
        "\"Nusrat\",\n",
        "\"prince\",\n",
        "\"Radhika\",\n",
        "\"Vedant\",\n",
        "\"Harshit\",\n",
        "\"Divyansh\",\n",
        "\"mantraksha\",]\n"
      ],
      "metadata": {
        "id": "USUyJRtCXaXr"
      },
      "execution_count": 7,
      "outputs": []
    },
    {
      "cell_type": "markdown",
      "source": [
        "Append late joiners to class list"
      ],
      "metadata": {
        "id": "utrjcw0vz1kI"
      }
    },
    {
      "cell_type": "code",
      "source": [
        "class_students.append('Vaibhav')\n",
        "class_students.append('Vidushi')\n",
        "class_students.append('Jonathan')\n",
        "class_students\n"
      ],
      "metadata": {
        "colab": {
          "base_uri": "https://localhost:8080/"
        },
        "id": "nPOmO997z0Ps",
        "outputId": "d2dbe329-cea8-411e-da49-96b7884e079f"
      },
      "execution_count": 8,
      "outputs": [
        {
          "output_type": "execute_result",
          "data": {
            "text/plain": [
              "['Ayaan',\n",
              " 'chaitanya',\n",
              " 'Dhairya',\n",
              " 'Divyansh',\n",
              " 'Shraiya',\n",
              " 'Nidhi',\n",
              " 'gokul',\n",
              " 'MantrakshaHarsh',\n",
              " 'Harshit',\n",
              " 'Himanshu',\n",
              " 'nidhi',\n",
              " 'Nusrat',\n",
              " 'prince',\n",
              " 'Radhika',\n",
              " 'Vedant',\n",
              " 'Harshit',\n",
              " 'Divyansh',\n",
              " 'mantraksha',\n",
              " 'Vaibhav',\n",
              " 'Vidushi',\n",
              " 'Jonathan']"
            ]
          },
          "metadata": {},
          "execution_count": 8
        }
      ]
    },
    {
      "cell_type": "code",
      "source": [
        "l1 = [1,2,3,'hii','hello']\n",
        "l2 = [4,5,6]\n",
        "l3 = l1+l1\n",
        "print(l3)"
      ],
      "metadata": {
        "colab": {
          "base_uri": "https://localhost:8080/"
        },
        "id": "CDbywuaZ0Dg2",
        "outputId": "63bd4072-5119-4179-a4e4-2b18143b8b95"
      },
      "execution_count": 9,
      "outputs": [
        {
          "output_type": "stream",
          "name": "stdout",
          "text": [
            "[1, 2, 3, 'hii', 'hello', 1, 2, 3, 'hii', 'hello']\n"
          ]
        }
      ]
    },
    {
      "cell_type": "code",
      "source": [
        "for name in class_students:\n",
        "  print(f'Hii {name}')"
      ],
      "metadata": {
        "colab": {
          "base_uri": "https://localhost:8080/"
        },
        "id": "we6j6_Gb6xVY",
        "outputId": "518eeb9f-7c28-4fcc-8be0-e8c2bf778756"
      },
      "execution_count": 10,
      "outputs": [
        {
          "output_type": "stream",
          "name": "stdout",
          "text": [
            "Hii Ayaan\n",
            "Hii chaitanya\n",
            "Hii Dhairya\n",
            "Hii Divyansh\n",
            "Hii Shraiya\n",
            "Hii Nidhi\n",
            "Hii gokul\n",
            "Hii MantrakshaHarsh\n",
            "Hii Harshit\n",
            "Hii Himanshu\n",
            "Hii nidhi\n",
            "Hii Nusrat\n",
            "Hii prince\n",
            "Hii Radhika\n",
            "Hii Vedant\n",
            "Hii Harshit\n",
            "Hii Divyansh\n",
            "Hii mantraksha\n",
            "Hii Vaibhav\n",
            "Hii Vidushi\n",
            "Hii Jonathan\n"
          ]
        }
      ]
    },
    {
      "cell_type": "code",
      "source": [
        "import time\n",
        "\n",
        "income_tax_officer = 'Ajay'\n",
        "\n",
        "for name in class_students:\n",
        "  print(f'{income_tax_officer} is preparing to raid {name} house')\n",
        "  time.sleep(2)\n",
        "\n",
        "  if name == \"Dhairya\":\n",
        "    #skip remaining part of loop and proceed to next interation\n",
        "    continue # ghus dena to Ajay\n",
        "  \n",
        "  print(f'{income_tax_officer} found black money in {name} house')\n",
        "  time.sleep(2)\n"
      ],
      "metadata": {
        "colab": {
          "base_uri": "https://localhost:8080/"
        },
        "id": "6ayLJGgm67XY",
        "outputId": "916d573b-4213-4159-c343-e69b85c45316"
      },
      "execution_count": 11,
      "outputs": [
        {
          "output_type": "stream",
          "name": "stdout",
          "text": [
            "Ajay is preparing to raid Ayaan house\n",
            "Ajay found black money in Ayaan house\n",
            "Ajay is preparing to raid chaitanya house\n",
            "Ajay found black money in chaitanya house\n",
            "Ajay is preparing to raid Dhairya house\n",
            "Ajay is preparing to raid Divyansh house\n",
            "Ajay found black money in Divyansh house\n",
            "Ajay is preparing to raid Shraiya house\n",
            "Ajay found black money in Shraiya house\n",
            "Ajay is preparing to raid Nidhi house\n",
            "Ajay found black money in Nidhi house\n",
            "Ajay is preparing to raid gokul house\n",
            "Ajay found black money in gokul house\n",
            "Ajay is preparing to raid MantrakshaHarsh house\n",
            "Ajay found black money in MantrakshaHarsh house\n",
            "Ajay is preparing to raid Harshit house\n",
            "Ajay found black money in Harshit house\n",
            "Ajay is preparing to raid Himanshu house\n",
            "Ajay found black money in Himanshu house\n",
            "Ajay is preparing to raid nidhi house\n",
            "Ajay found black money in nidhi house\n",
            "Ajay is preparing to raid Nusrat house\n",
            "Ajay found black money in Nusrat house\n",
            "Ajay is preparing to raid prince house\n",
            "Ajay found black money in prince house\n",
            "Ajay is preparing to raid Radhika house\n",
            "Ajay found black money in Radhika house\n",
            "Ajay is preparing to raid Vedant house\n",
            "Ajay found black money in Vedant house\n",
            "Ajay is preparing to raid Harshit house\n",
            "Ajay found black money in Harshit house\n",
            "Ajay is preparing to raid Divyansh house\n",
            "Ajay found black money in Divyansh house\n",
            "Ajay is preparing to raid mantraksha house\n",
            "Ajay found black money in mantraksha house\n",
            "Ajay is preparing to raid Vaibhav house\n",
            "Ajay found black money in Vaibhav house\n",
            "Ajay is preparing to raid Vidushi house\n",
            "Ajay found black money in Vidushi house\n",
            "Ajay is preparing to raid Jonathan house\n",
            "Ajay found black money in Jonathan house\n"
          ]
        }
      ]
    },
    {
      "cell_type": "code",
      "source": [
        "import time\n",
        "\n",
        "income_tax_officer = 'Ajay'\n",
        "\n",
        "for name in class_students:\n",
        "  print(f'{income_tax_officer} is preparing to raid {name} house')\n",
        "  time.sleep(2)\n",
        "\n",
        "  if name == \"Dhairya\":\n",
        "    #terminate loop\n",
        "    break # ghus dena to Ajay\n",
        "  \n",
        "  print(f'{income_tax_officer} found black money in {name} house')\n",
        "  time.sleep(2)"
      ],
      "metadata": {
        "colab": {
          "base_uri": "https://localhost:8080/"
        },
        "id": "ktpv3Hnv72u-",
        "outputId": "ae00b941-1945-46f5-929e-688034158a01"
      },
      "execution_count": 12,
      "outputs": [
        {
          "output_type": "stream",
          "name": "stdout",
          "text": [
            "Ajay is preparing to raid Ayaan house\n",
            "Ajay found black money in Ayaan house\n",
            "Ajay is preparing to raid chaitanya house\n",
            "Ajay found black money in chaitanya house\n",
            "Ajay is preparing to raid Dhairya house\n"
          ]
        }
      ]
    },
    {
      "cell_type": "code",
      "source": [
        ""
      ],
      "metadata": {
        "id": "T7iKUZCj8Ut2"
      },
      "execution_count": null,
      "outputs": []
    }
  ]
}