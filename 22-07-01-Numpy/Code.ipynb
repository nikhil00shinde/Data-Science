{
  "nbformat": 4,
  "nbformat_minor": 0,
  "metadata": {
    "colab": {
      "name": "Numpy.ipynb",
      "provenance": [],
      "authorship_tag": "ABX9TyNANsTPwZvLAmll1K9cH7rO",
      "include_colab_link": true
    },
    "kernelspec": {
      "name": "python3",
      "display_name": "Python 3"
    },
    "language_info": {
      "name": "python"
    }
  },
  "cells": [
    {
      "cell_type": "markdown",
      "metadata": {
        "id": "view-in-github",
        "colab_type": "text"
      },
      "source": [
        "<a href=\"https://colab.research.google.com/github/nikhil00shinde/Data-Science/blob/main/22-07-01-Numpy/Code.ipynb\" target=\"_parent\"><img src=\"https://colab.research.google.com/assets/colab-badge.svg\" alt=\"Open In Colab\"/></a>"
      ]
    },
    {
      "cell_type": "code",
      "execution_count": 2,
      "metadata": {
        "id": "sm8Lixio3PMH"
      },
      "outputs": [],
      "source": [
        "import numpy as np"
      ]
    },
    {
      "cell_type": "markdown",
      "source": [
        "# Basics\n",
        "\n",
        "Create from python list\n",
        "* size\n",
        "* dtype\n",
        "* shape\n",
        "* ndim\n",
        "\n",
        "**Performance**\n",
        "* memory\n",
        "* time"
      ],
      "metadata": {
        "id": "0DINnw-p1yZC"
      }
    },
    {
      "cell_type": "code",
      "source": [
        "l = np.array([1,2,5,6,7])\n",
        "print(l)"
      ],
      "metadata": {
        "colab": {
          "base_uri": "https://localhost:8080/"
        },
        "id": "cz-YjHha1xYo",
        "outputId": "36d2d962-7f86-44a7-aec7-2664e5b39353"
      },
      "execution_count": null,
      "outputs": [
        {
          "output_type": "stream",
          "name": "stdout",
          "text": [
            "[1 2 5 6 7]\n"
          ]
        }
      ]
    },
    {
      "cell_type": "code",
      "source": [
        "print(\"Type\",type(l))\n",
        "print('Size',l.size)\n",
        "print('dtype',l.dtype)"
      ],
      "metadata": {
        "colab": {
          "base_uri": "https://localhost:8080/"
        },
        "id": "4YyrmynK2KwG",
        "outputId": "4cdd5637-8696-4e97-9fa5-e49fb9974abd"
      },
      "execution_count": null,
      "outputs": [
        {
          "output_type": "stream",
          "name": "stdout",
          "text": [
            "Type <class 'numpy.ndarray'>\n",
            "Size 5\n",
            "dtype int64\n"
          ]
        }
      ]
    },
    {
      "cell_type": "markdown",
      "source": [
        "Dtypes: https://numpy.org/devdocs/user/basics.types.html\n",
        "* int\n",
        "* uint\n",
        "* float {8,16,32,64}"
      ],
      "metadata": {
        "id": "8XLENcFx2azi"
      }
    },
    {
      "cell_type": "code",
      "source": [
        "# l = np.array([1,2,5,6,70000],dtype='int8)\n",
        "l = np.array([1,2,5,6.,9,700000])\n",
        "\n",
        "print(l.dtype)\n",
        "print(l)"
      ],
      "metadata": {
        "colab": {
          "base_uri": "https://localhost:8080/"
        },
        "id": "z9TUbft22XPg",
        "outputId": "e46aa1c7-728c-4565-eafc-974090448e36"
      },
      "execution_count": null,
      "outputs": [
        {
          "output_type": "stream",
          "name": "stdout",
          "text": [
            "float64\n",
            "[1.e+00 2.e+00 5.e+00 6.e+00 9.e+00 7.e+05]\n"
          ]
        }
      ]
    },
    {
      "cell_type": "markdown",
      "source": [
        "e + x => 10^x"
      ],
      "metadata": {
        "id": "H-qvmQIO2z6q"
      }
    },
    {
      "cell_type": "code",
      "source": [
        "l = np.array([1,2,5,6.6,9],dtype='int32')\n",
        "\n",
        "print(l.dtype)\n",
        "print(l)"
      ],
      "metadata": {
        "colab": {
          "base_uri": "https://localhost:8080/"
        },
        "id": "VAEebGRa2vWL",
        "outputId": "7ee7fa9a-19d0-43f9-f8c4-6ba9dbd10f0e"
      },
      "execution_count": null,
      "outputs": [
        {
          "output_type": "stream",
          "name": "stdout",
          "text": [
            "int32\n",
            "[1 2 5 6 9]\n"
          ]
        }
      ]
    },
    {
      "cell_type": "markdown",
      "source": [
        "## Performance\n",
        "\n",
        "**Memory**"
      ],
      "metadata": {
        "id": "3EJUEEFL3IeW"
      }
    },
    {
      "cell_type": "code",
      "source": [
        "import sys\n",
        "\n",
        "a = 9\n",
        "print('Bits',sys.getsizeof(a)*8)"
      ],
      "metadata": {
        "colab": {
          "base_uri": "https://localhost:8080/"
        },
        "id": "9xZ9nkDy3CRg",
        "outputId": "08411678-bc40-46de-b3a9-68a3009d72b6"
      },
      "execution_count": null,
      "outputs": [
        {
          "output_type": "stream",
          "name": "stdout",
          "text": [
            "Bits 224\n"
          ]
        }
      ]
    },
    {
      "cell_type": "code",
      "source": [
        "a = np.array([3,5,8,5])\n",
        "\n",
        "print(a.dtype)\n",
        "print('Storage of 1 data int Bits\\'s',a.itemsize*8)\n",
        "print('Storage of complete array in bit\\'s', a.nbytes*8)"
      ],
      "metadata": {
        "colab": {
          "base_uri": "https://localhost:8080/"
        },
        "id": "C6cSDOYJ3iOB",
        "outputId": "deec4b7a-777b-41e4-ccd9-934e73b0bf4c"
      },
      "execution_count": null,
      "outputs": [
        {
          "output_type": "stream",
          "name": "stdout",
          "text": [
            "int64\n",
            "Storage of 1 data int Bits's 64\n",
            "Storage of complete array in bit's 256\n"
          ]
        }
      ]
    },
    {
      "cell_type": "markdown",
      "source": [
        "**Time**"
      ],
      "metadata": {
        "id": "NH0h0YEP4WgI"
      }
    },
    {
      "cell_type": "code",
      "source": [
        "ar = np.arange(2,100002)\n",
        "print(ar.size)"
      ],
      "metadata": {
        "colab": {
          "base_uri": "https://localhost:8080/"
        },
        "id": "u913AfGN4TiS",
        "outputId": "72c9ebaf-ec28-4808-d9e2-13bf23cfaddf"
      },
      "execution_count": null,
      "outputs": [
        {
          "output_type": "stream",
          "name": "stdout",
          "text": [
            "100000\n"
          ]
        }
      ]
    },
    {
      "cell_type": "code",
      "source": [
        "s = 0\n",
        "for i in ar:\n",
        "  s = s+i\n",
        "print(s)"
      ],
      "metadata": {
        "colab": {
          "base_uri": "https://localhost:8080/"
        },
        "id": "RvFCFQxY4dM9",
        "outputId": "ba63f46e-36ad-4d2f-f0d7-ed7745a78bea"
      },
      "execution_count": null,
      "outputs": [
        {
          "output_type": "stream",
          "name": "stdout",
          "text": [
            "5000150000\n"
          ]
        }
      ]
    },
    {
      "cell_type": "code",
      "source": [
        "def sumArray(l):\n",
        "  sum = 0\n",
        "  for i in l:\n",
        "    sum = sum + i\n",
        "  return sum\n",
        "\n",
        "%timeit sumArray(ar) # python function"
      ],
      "metadata": {
        "colab": {
          "base_uri": "https://localhost:8080/"
        },
        "id": "QnS98SY04jgI",
        "outputId": "a6f4fd75-0c9f-4b5b-d3b2-49af3072e19b"
      },
      "execution_count": null,
      "outputs": [
        {
          "output_type": "stream",
          "name": "stdout",
          "text": [
            "100 loops, best of 5: 10.8 ms per loop\n"
          ]
        }
      ]
    },
    {
      "cell_type": "code",
      "source": [
        "%timeit ar.sum() # numpy function"
      ],
      "metadata": {
        "colab": {
          "base_uri": "https://localhost:8080/"
        },
        "id": "X3peiYiz44AV",
        "outputId": "05e411b9-830c-4a32-cab6-f52e08d3042b"
      },
      "execution_count": null,
      "outputs": [
        {
          "output_type": "stream",
          "name": "stdout",
          "text": [
            "The slowest run took 8.63 times longer than the fastest. This could mean that an intermediate result is being cached.\n",
            "10000 loops, best of 5: 71.4 µs per loop\n"
          ]
        }
      ]
    },
    {
      "cell_type": "markdown",
      "source": [
        "# Numpy array from Scratch\n",
        "\n",
        "* `np.zeros(size)`\n",
        "* `np.ones(size)`\n",
        "* `np.full(size,value)` # repeats 7 10 times\n",
        "* `np.arange(start,stop,step)`"
      ],
      "metadata": {
        "id": "tlKEKWnz5J8G"
      }
    },
    {
      "cell_type": "code",
      "source": [
        "ar = np.zeros(10,dtype=np.int32)\n",
        "print(ar)\n",
        "print(ar.dtype)\n",
        "print(ar.size)"
      ],
      "metadata": {
        "colab": {
          "base_uri": "https://localhost:8080/"
        },
        "id": "qD4YvjiC4873",
        "outputId": "a4eeac42-7d64-4808-e573-843f93706e29"
      },
      "execution_count": null,
      "outputs": [
        {
          "output_type": "stream",
          "name": "stdout",
          "text": [
            "[0 0 0 0 0 0 0 0 0 0]\n",
            "int32\n",
            "10\n"
          ]
        }
      ]
    },
    {
      "cell_type": "code",
      "source": [
        "ar = np.ones(10,dtype=np.int32)\n",
        "print(ar)\n",
        "print(ar.dtype)\n",
        "print(ar.size)"
      ],
      "metadata": {
        "colab": {
          "base_uri": "https://localhost:8080/"
        },
        "id": "59Oq6yqw5vyl",
        "outputId": "545410f9-c98a-438c-9020-ad9f795bd09a"
      },
      "execution_count": null,
      "outputs": [
        {
          "output_type": "stream",
          "name": "stdout",
          "text": [
            "[1 1 1 1 1 1 1 1 1 1]\n",
            "int32\n",
            "10\n"
          ]
        }
      ]
    },
    {
      "cell_type": "code",
      "source": [
        "ar = np.full(10,7,dtype=np.int32) # repeats\n",
        "print(ar)\n",
        "print(ar.dtype)\n",
        "print(ar.size)"
      ],
      "metadata": {
        "colab": {
          "base_uri": "https://localhost:8080/"
        },
        "id": "rwnbkmQW52wm",
        "outputId": "64ede84a-fdfc-4a6b-b4e4-0fb2ccf745cf"
      },
      "execution_count": null,
      "outputs": [
        {
          "output_type": "stream",
          "name": "stdout",
          "text": [
            "[7 7 7 7 7 7 7 7 7 7]\n",
            "int32\n",
            "10\n"
          ]
        }
      ]
    },
    {
      "cell_type": "code",
      "source": [
        "print(list(range(20,9,-2)))\n",
        "ar = np.arange(20,9,-2)\n",
        "print(ar)"
      ],
      "metadata": {
        "colab": {
          "base_uri": "https://localhost:8080/"
        },
        "id": "YqoJ_sTR6JAf",
        "outputId": "2029dc54-06a8-4327-943b-d6747a1fd942"
      },
      "execution_count": null,
      "outputs": [
        {
          "output_type": "stream",
          "name": "stdout",
          "text": [
            "[20, 18, 16, 14, 12, 10]\n",
            "[20 18 16 14 12 10]\n"
          ]
        }
      ]
    },
    {
      "cell_type": "markdown",
      "source": [
        "# Slicing / Indexing\n",
        "\n",
        "* Same as python list"
      ],
      "metadata": {
        "id": "qI6M2mfx6UuM"
      }
    },
    {
      "cell_type": "code",
      "source": [
        "ar = np.arange(2,10) \n",
        "print(ar)\n",
        "print(ar.size)"
      ],
      "metadata": {
        "colab": {
          "base_uri": "https://localhost:8080/"
        },
        "id": "FgBn_YCJ6SKH",
        "outputId": "75bf0240-2aeb-46a3-a0d7-5e94dcfa66a7"
      },
      "execution_count": null,
      "outputs": [
        {
          "output_type": "stream",
          "name": "stdout",
          "text": [
            "[2 3 4 5 6 7 8 9]\n",
            "8\n"
          ]
        }
      ]
    },
    {
      "cell_type": "code",
      "source": [
        "print(ar[0])\n",
        "print(ar[-2])"
      ],
      "metadata": {
        "colab": {
          "base_uri": "https://localhost:8080/"
        },
        "id": "uBUC-i0i6hzw",
        "outputId": "b81089e8-2648-47cf-ea29-70c2e12fd6ec"
      },
      "execution_count": null,
      "outputs": [
        {
          "output_type": "stream",
          "name": "stdout",
          "text": [
            "2\n",
            "8\n"
          ]
        }
      ]
    },
    {
      "cell_type": "code",
      "source": [
        "ar[::-1]"
      ],
      "metadata": {
        "colab": {
          "base_uri": "https://localhost:8080/"
        },
        "id": "P28gwJxA6mDo",
        "outputId": "9f08a7b9-2078-4d23-8d65-615e18febfd4"
      },
      "execution_count": null,
      "outputs": [
        {
          "output_type": "execute_result",
          "data": {
            "text/plain": [
              "array([9, 8, 7, 6, 5, 4, 3, 2])"
            ]
          },
          "metadata": {},
          "execution_count": 22
        }
      ]
    },
    {
      "cell_type": "markdown",
      "source": [
        "Task\n",
        "\n",
        "\n",
        "1. https://www.hackerrank.com/challenges/np-arrays/problem?isFullScreen=true\n",
        "2. https://www.hackerrank.com/challenges/np-zeros-and-ones/problem?isFullScreen=true\n",
        "\n",
        "\n",
        "```\n",
        "def arrays(arr):\n",
        "  l = arr[::-1];\n",
        "  l = numpy.array(l,float)\n",
        "  return l\n",
        "\n",
        "import numpy\n",
        "\n",
        "s = input()\n",
        "l = s.split(' ') # ['3', '3', ...... '3]\n",
        "\n",
        "for i in range(len(l)):\n",
        "  l[i] = int(l[i])\n",
        "\n",
        "print(numpy.zeros(l, dtype='int8'))\n",
        "print(numpy.ones(l, dtype='int8'))\n",
        "```"
      ],
      "metadata": {
        "id": "l_YczZPe6vE9"
      }
    },
    {
      "cell_type": "code",
      "source": [
        "# without using full function +\n",
        "ar = np.ones(12)*8\n",
        "print(ar)\n",
        "print(ar.size)\n",
        "print(ar.dtype)"
      ],
      "metadata": {
        "colab": {
          "base_uri": "https://localhost:8080/"
        },
        "id": "omwUBUs46nnS",
        "outputId": "478f1eac-5308-449e-ab28-6173ebd119f4"
      },
      "execution_count": null,
      "outputs": [
        {
          "output_type": "stream",
          "name": "stdout",
          "text": [
            "[8. 8. 8. 8. 8. 8. 8. 8. 8. 8. 8. 8.]\n",
            "12\n",
            "float64\n"
          ]
        }
      ]
    },
    {
      "cell_type": "markdown",
      "source": [
        "# Deep copy & Shallow copy\n",
        "\n",
        "Python does not reflects changes in original array\n",
        "\n",
        "Numpy does\n",
        " * To prevent we can use `ar.copy()`"
      ],
      "metadata": {
        "id": "uAl8rw2RS6gn"
      }
    },
    {
      "cell_type": "code",
      "source": [
        "l = list(range(10))\n",
        "sl = l[3:8]\n",
        "print(l)\n",
        "print(sl)\n",
        "\n",
        "print('changing')\n",
        "sl[0] = 8\n",
        "print(l)\n",
        "print(sl)"
      ],
      "metadata": {
        "id": "7GajkdUR7-Vv",
        "colab": {
          "base_uri": "https://localhost:8080/"
        },
        "outputId": "5c3a7d10-f1ec-4545-f4d8-0562339777b5"
      },
      "execution_count": 1,
      "outputs": [
        {
          "output_type": "stream",
          "name": "stdout",
          "text": [
            "[0, 1, 2, 3, 4, 5, 6, 7, 8, 9]\n",
            "[3, 4, 5, 6, 7]\n",
            "changing\n",
            "[0, 1, 2, 3, 4, 5, 6, 7, 8, 9]\n",
            "[8, 4, 5, 6, 7]\n"
          ]
        }
      ]
    },
    {
      "cell_type": "code",
      "source": [
        "ar = np.arange(10)\n",
        "sl = ar[3:8]\n",
        "print(ar)\n",
        "print(sl)\n",
        "\n",
        "print('changing')\n",
        "sl[0] = 8\n",
        "print(ar)\n",
        "print(sl)"
      ],
      "metadata": {
        "colab": {
          "base_uri": "https://localhost:8080/"
        },
        "id": "V-F9mTcPTYHj",
        "outputId": "210e607a-39b8-4256-9720-fc4b2791d1a3"
      },
      "execution_count": 7,
      "outputs": [
        {
          "output_type": "stream",
          "name": "stdout",
          "text": [
            "[0 1 2 3 4 5 6 7 8 9]\n",
            "[3 4 5 6 7]\n",
            "changing\n",
            "[0 1 2 8 4 5 6 7 8 9]\n",
            "[8 4 5 6 7]\n"
          ]
        }
      ]
    },
    {
      "cell_type": "code",
      "source": [
        "ar = np.arange(10)\n",
        "sl = ar[3:8].copy()\n",
        "print(ar)\n",
        "print(sl)\n",
        "\n",
        "print('changing')\n",
        "\n",
        "sl[0] = 8\n",
        "\n",
        "print(ar)\n",
        "print(sl)"
      ],
      "metadata": {
        "colab": {
          "base_uri": "https://localhost:8080/"
        },
        "id": "qdhauiHLTkZb",
        "outputId": "9692f44b-1358-49a0-e47e-cd3185bfaefe"
      },
      "execution_count": 6,
      "outputs": [
        {
          "output_type": "stream",
          "name": "stdout",
          "text": [
            "[0 1 2 3 4 5 6 7 8 9]\n",
            "[3 4 5 6 7]\n",
            "changing\n",
            "[0 1 2 3 4 5 6 7 8 9]\n",
            "[8 4 5 6 7]\n"
          ]
        }
      ]
    },
    {
      "cell_type": "markdown",
      "source": [
        "# Multi Dimension\n",
        "\n",
        "multi dim = Array inside another array\n",
        "\n",
        "* ndim \n",
        "* shape : length of all array one inside other\n",
        "\n",
        "**Create from Scratch**\n",
        "\n",
        "**Indexing/Slicing**"
      ],
      "metadata": {
        "id": "9DLo00XzUs1J"
      }
    },
    {
      "cell_type": "code",
      "source": [
        "ar = np.array([1,2,3,4])\n",
        "print(type(ar))\n",
        "print(ar.ndim)\n",
        "print(ar.shape)"
      ],
      "metadata": {
        "colab": {
          "base_uri": "https://localhost:8080/"
        },
        "id": "OOY7Y6DqUjPi",
        "outputId": "a61c7487-f314-4113-aad9-ceda4006527c"
      },
      "execution_count": 8,
      "outputs": [
        {
          "output_type": "stream",
          "name": "stdout",
          "text": [
            "<class 'numpy.ndarray'>\n",
            "1\n",
            "(4,)\n"
          ]
        }
      ]
    },
    {
      "cell_type": "code",
      "source": [
        "ar = np.array([ [1,2], [3,4], [4,5], [6,7]])\n",
        "\n",
        "print(ar)\n",
        "print(ar.ndim)\n",
        "print(ar.shape)\n",
        "print(ar[0])\n",
        "print(ar[1])"
      ],
      "metadata": {
        "colab": {
          "base_uri": "https://localhost:8080/"
        },
        "id": "XIuQTeOUVeAP",
        "outputId": "22838e8f-3cd3-4605-90b0-33920fc4ed53"
      },
      "execution_count": 9,
      "outputs": [
        {
          "output_type": "stream",
          "name": "stdout",
          "text": [
            "[[1 2]\n",
            " [3 4]\n",
            " [4 5]\n",
            " [6 7]]\n",
            "2\n",
            "(4, 2)\n",
            "[1 2]\n",
            "[3 4]\n"
          ]
        }
      ]
    },
    {
      "cell_type": "code",
      "source": [
        "ar = np.array([ [[1,1,1], [2,1,1]], [[3,1,1],[4,1,1]], [[4,1,1],[5,1,1]], [[6,1,1],[7,1,1]] ])\n",
        "\n",
        "print(ar.ndim)\n",
        "print(ar.shape)\n",
        "print(ar.size) # count of values{int, float}\n",
        "print(len(ar), len(ar[0]), len(ar[0][0]))"
      ],
      "metadata": {
        "colab": {
          "base_uri": "https://localhost:8080/"
        },
        "id": "JLeQ9ahIV3iC",
        "outputId": "822a4566-d225-4a60-9000-2097a81bbc69"
      },
      "execution_count": 12,
      "outputs": [
        {
          "output_type": "stream",
          "name": "stdout",
          "text": [
            "3\n",
            "(4, 2, 3)\n",
            "24\n",
            "4 2 3\n"
          ]
        }
      ]
    },
    {
      "cell_type": "code",
      "source": [
        "print(ar)"
      ],
      "metadata": {
        "colab": {
          "base_uri": "https://localhost:8080/"
        },
        "id": "oBbUBbhtW978",
        "outputId": "94a0dfad-87ef-4ea6-c98c-a7f4e509d005"
      },
      "execution_count": 13,
      "outputs": [
        {
          "output_type": "stream",
          "name": "stdout",
          "text": [
            "[[[1 1 1]\n",
            "  [2 1 1]]\n",
            "\n",
            " [[3 1 1]\n",
            "  [4 1 1]]\n",
            "\n",
            " [[4 1 1]\n",
            "  [5 1 1]]\n",
            "\n",
            " [[6 1 1]\n",
            "  [7 1 1]]]\n"
          ]
        }
      ]
    },
    {
      "cell_type": "code",
      "source": [
        "print(ar[0][1][0])\n",
        "print(ar[0, 1, 0])"
      ],
      "metadata": {
        "colab": {
          "base_uri": "https://localhost:8080/"
        },
        "id": "iwLux_6-XKYW",
        "outputId": "6b32cdd3-0242-4d0f-9182-d96a42686ef3"
      },
      "execution_count": 14,
      "outputs": [
        {
          "output_type": "stream",
          "name": "stdout",
          "text": [
            "2\n",
            "2\n"
          ]
        }
      ]
    },
    {
      "cell_type": "markdown",
      "source": [
        "## from Scratch\n",
        "\n",
        "\n",
        "*   `np.ones( (2,5,3) )`\n",
        "*   `np.zeros( (2,5,3) )`\n",
        "*   `np.arange(12).reshape(3,-1)`\n",
        "*   full\n",
        "\n"
      ],
      "metadata": {
        "id": "aijJPbMsXUyK"
      }
    },
    {
      "cell_type": "code",
      "source": [
        "ar = np.ones( (2,5,3))\n",
        "\n",
        "print(ar)\n",
        "print(ar.ndim)\n",
        "print(ar.shape)\n",
        "print(ar.size)"
      ],
      "metadata": {
        "colab": {
          "base_uri": "https://localhost:8080/"
        },
        "id": "hz0o7qqJXTBG",
        "outputId": "e5adb299-584e-48e9-c618-683218728cdb"
      },
      "execution_count": 15,
      "outputs": [
        {
          "output_type": "stream",
          "name": "stdout",
          "text": [
            "[[[1. 1. 1.]\n",
            "  [1. 1. 1.]\n",
            "  [1. 1. 1.]\n",
            "  [1. 1. 1.]\n",
            "  [1. 1. 1.]]\n",
            "\n",
            " [[1. 1. 1.]\n",
            "  [1. 1. 1.]\n",
            "  [1. 1. 1.]\n",
            "  [1. 1. 1.]\n",
            "  [1. 1. 1.]]]\n",
            "3\n",
            "(2, 5, 3)\n",
            "30\n"
          ]
        }
      ]
    },
    {
      "cell_type": "code",
      "source": [
        "a = ar.reshape(3, 5, 2)\n",
        "\n",
        "print(a)\n",
        "print(a.ndim)\n",
        "print(a.shape)\n",
        "print(a.size)"
      ],
      "metadata": {
        "colab": {
          "base_uri": "https://localhost:8080/"
        },
        "id": "RNCQBhSBX8Bt",
        "outputId": "301418d3-7010-4466-a9d9-b5f134f24d91"
      },
      "execution_count": 16,
      "outputs": [
        {
          "output_type": "stream",
          "name": "stdout",
          "text": [
            "[[[1. 1.]\n",
            "  [1. 1.]\n",
            "  [1. 1.]\n",
            "  [1. 1.]\n",
            "  [1. 1.]]\n",
            "\n",
            " [[1. 1.]\n",
            "  [1. 1.]\n",
            "  [1. 1.]\n",
            "  [1. 1.]\n",
            "  [1. 1.]]\n",
            "\n",
            " [[1. 1.]\n",
            "  [1. 1.]\n",
            "  [1. 1.]\n",
            "  [1. 1.]\n",
            "  [1. 1.]]]\n",
            "3\n",
            "(3, 5, 2)\n",
            "30\n"
          ]
        }
      ]
    },
    {
      "cell_type": "code",
      "source": [
        "a = ar.reshape(3, -1)\n",
        "\n",
        "print(a)\n",
        "print(a.ndim)\n",
        "print(a.shape)\n",
        "print(a.size)"
      ],
      "metadata": {
        "colab": {
          "base_uri": "https://localhost:8080/"
        },
        "id": "j4UQGNDKYP-4",
        "outputId": "b01614f7-16ff-4161-e1ce-bb7240d34cc5"
      },
      "execution_count": 18,
      "outputs": [
        {
          "output_type": "stream",
          "name": "stdout",
          "text": [
            "[[1. 1. 1. 1. 1. 1. 1. 1. 1. 1.]\n",
            " [1. 1. 1. 1. 1. 1. 1. 1. 1. 1.]\n",
            " [1. 1. 1. 1. 1. 1. 1. 1. 1. 1.]]\n",
            "2\n",
            "(3, 10)\n",
            "30\n"
          ]
        }
      ]
    },
    {
      "cell_type": "code",
      "source": [
        "ar = np.arange(12)\n",
        "print(ar)"
      ],
      "metadata": {
        "colab": {
          "base_uri": "https://localhost:8080/"
        },
        "id": "Qr_II8pHYcI4",
        "outputId": "3529eb16-e4ae-4134-9dbb-a9143c9706d0"
      },
      "execution_count": 19,
      "outputs": [
        {
          "output_type": "stream",
          "name": "stdout",
          "text": [
            "[ 0  1  2  3  4  5  6  7  8  9 10 11]\n"
          ]
        }
      ]
    },
    {
      "cell_type": "code",
      "source": [
        "ar.reshape(-1, 6)"
      ],
      "metadata": {
        "colab": {
          "base_uri": "https://localhost:8080/"
        },
        "id": "ZGEogzZHYiXx",
        "outputId": "0ea6918b-23f0-46da-95ad-486f40a4e06d"
      },
      "execution_count": 20,
      "outputs": [
        {
          "output_type": "execute_result",
          "data": {
            "text/plain": [
              "array([[ 0,  1,  2,  3,  4,  5],\n",
              "       [ 6,  7,  8,  9, 10, 11]])"
            ]
          },
          "metadata": {},
          "execution_count": 20
        }
      ]
    },
    {
      "cell_type": "markdown",
      "source": [
        "## Indexing / Slicing\n",
        "\n",
        "* `grid[8, 9, 3]`\n",
        "* `grid[3:9, 9]`"
      ],
      "metadata": {
        "id": "8zZQAB7RYm0p"
      }
    },
    {
      "cell_type": "code",
      "source": [
        "ar = np.arange(12).reshape(3,-1)\n",
        "\n",
        "print(ar.shape)\n",
        "print(ar)"
      ],
      "metadata": {
        "colab": {
          "base_uri": "https://localhost:8080/"
        },
        "id": "g0a-8EsUYyRS",
        "outputId": "ce37d22d-c754-4e51-a8f3-4ca29f37a9b1"
      },
      "execution_count": 21,
      "outputs": [
        {
          "output_type": "stream",
          "name": "stdout",
          "text": [
            "(3, 4)\n",
            "[[ 0  1  2  3]\n",
            " [ 4  5  6  7]\n",
            " [ 8  9 10 11]]\n"
          ]
        }
      ]
    },
    {
      "cell_type": "code",
      "source": [
        "print(ar[1])\n",
        "\n",
        "ar[1, 2]"
      ],
      "metadata": {
        "colab": {
          "base_uri": "https://localhost:8080/"
        },
        "id": "cyL8BjweY5yV",
        "outputId": "c581daa9-e1b8-432b-c2f3-6ce8e2a3c384"
      },
      "execution_count": 22,
      "outputs": [
        {
          "output_type": "stream",
          "name": "stdout",
          "text": [
            "[4 5 6 7]\n"
          ]
        },
        {
          "output_type": "execute_result",
          "data": {
            "text/plain": [
              "6"
            ]
          },
          "metadata": {},
          "execution_count": 22
        }
      ]
    },
    {
      "cell_type": "code",
      "source": [
        "print(ar)"
      ],
      "metadata": {
        "colab": {
          "base_uri": "https://localhost:8080/"
        },
        "id": "t9oCEVefZAts",
        "outputId": "8b0fb791-9be6-4a47-a199-9b7bbdaa656e"
      },
      "execution_count": 23,
      "outputs": [
        {
          "output_type": "stream",
          "name": "stdout",
          "text": [
            "[[ 0  1  2  3]\n",
            " [ 4  5  6  7]\n",
            " [ 8  9 10 11]]\n"
          ]
        }
      ]
    },
    {
      "cell_type": "code",
      "source": [
        "print(ar[0:2])\n",
        "print()\n",
        "print(ar[0:2, 1:])\n",
        "print()\n",
        "print(ar[0:2, :0:-1])"
      ],
      "metadata": {
        "colab": {
          "base_uri": "https://localhost:8080/"
        },
        "id": "_BXLa9nPZCHE",
        "outputId": "a636b43b-8ec6-4cce-9275-253bc5d2e7d9"
      },
      "execution_count": 28,
      "outputs": [
        {
          "output_type": "stream",
          "name": "stdout",
          "text": [
            "[[0 1 2 3]\n",
            " [4 5 6 7]]\n",
            "\n",
            "[[1 2 3]\n",
            " [5 6 7]]\n",
            "\n",
            "[[3 2 1]\n",
            " [7 6 5]]\n"
          ]
        }
      ]
    },
    {
      "cell_type": "code",
      "source": [
        ""
      ],
      "metadata": {
        "id": "BIom0ZTeZLAO"
      },
      "execution_count": null,
      "outputs": []
    }
  ]
}